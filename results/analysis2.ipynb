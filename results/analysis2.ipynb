{
 "cells": [
  {
   "cell_type": "code",
   "execution_count": 34,
   "metadata": {
    "scrolled": true
   },
   "outputs": [],
   "source": [
    "import pandas as pd\n",
    "import csv\n",
    "import re\n",
    "\n",
    "def wego(file_in, file_out):\n",
    "\n",
    "    #data = pd.read_csv(file_in, delimiter='\\t', header=None)\n",
    "    data = pd.DataFrame([line.strip().split('\\t') for line in open(file_in)])\n",
    "    \n",
    "    d = data[:][{0,13}]\n",
    "    proteins = data[0][:]\n",
    "    proteins = list(set(proteins))\n",
    "\n",
    "    l = []\n",
    "    for p in proteins:\n",
    "        l2 = []\n",
    "        for i in range(len(d[0])):\n",
    "            if d[0][i]==p:\n",
    "                if not pd.isna(d[13][i]):\n",
    "                    x = d[13][i].split(\"|\")\n",
    "                    l2.extend(x)\n",
    "        row =[p]\n",
    "        row.extend(set(l2))\n",
    "        l.append(row)\n",
    "\n",
    "    with open(file_out, 'wt') as out_file:\n",
    "        tsv_writer = csv.writer(out_file, delimiter='\\t')\n",
    "        [tsv_writer.writerow(i) for i in l]"
   ]
  },
  {
   "cell_type": "code",
   "execution_count": 35,
   "metadata": {},
   "outputs": [],
   "source": [
    "wego(\"wego/IPS_sco_low_conf.tsv\", \"wego/sco_low_conf.txt\")\n",
    "wego(\"wego/IPS_all_high_conf.tsv\", \"wego/all_high_conf.txt\")\n",
    "wego(\"wego/IPS_sco_high_conf_hy+dm.tsv\", \"wego/sco_high_conf_hy+dm.txt\")\n",
    "wego(\"wego/IPS_all_high_conf_hy+dm.tsv\", \"wego/all_high_conf_hy+dm.txt\")\n",
    "wego(\"wego/IPS_all_high_conf_hy+hs.tsv\", \"wego/all_high_conf_hy+hs.txt\")"
   ]
  },
  {
   "cell_type": "code",
   "execution_count": null,
   "metadata": {},
   "outputs": [],
   "source": []
  }
 ],
 "metadata": {
  "kernelspec": {
   "display_name": "Python 3",
   "language": "python",
   "name": "python3"
  },
  "language_info": {
   "codemirror_mode": {
    "name": "ipython",
    "version": 3
   },
   "file_extension": ".py",
   "mimetype": "text/x-python",
   "name": "python",
   "nbconvert_exporter": "python",
   "pygments_lexer": "ipython3",
   "version": "3.7.3"
  }
 },
 "nbformat": 4,
 "nbformat_minor": 2
}
